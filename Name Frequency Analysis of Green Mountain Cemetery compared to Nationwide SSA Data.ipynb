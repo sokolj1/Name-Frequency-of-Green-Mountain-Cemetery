{
 "cells": [
  {
   "cell_type": "markdown",
   "metadata": {},
   "source": [
    "# Name Frequency of Green Mountain Cemetery compared to Nationwide SSA Data\n",
    "\n",
    "#### John Sokol \n",
    "#### Intro to Data Science and Analytics \n",
    "#### 29 November 2017\n",
    "\n",
    "## Introduction:\n",
    "\n",
    "The name of an individual is arguably the most important intangible possession anyone can call their own in a lifetime. A name, both first name and surname, calls to mind a snapshot of the most important achievements an individual has accomplished, or to the same token, events or actions that have scarred his or her reputation for the worse. Regardless, a person's name is significant to the name holder, as they will carry this name for the duration of their life barring legal changes. \n",
    "\n",
    "The first name is especially noteworthy; although the mother and father of a newborn traditionally can not choose their child's surname, the first name is freely chosen by the newborn's parents. The choice is traditionally influenced by cultural/family history, religious meaning, and of course, gender. \n",
    "\n",
    "The question of this study is the following: What percentage of the top 5 most popular male and female first names are given to people who reside in Hammonton, New Jersey in the past century? In order to complete this analysis, the top 5 newborn first names between 1917 - 2016 will be cited from the Social Security Administration (SSA) website, an independent United States government agency that collects this data on a yearly basis. This government data will be cross referenced with 107 data values from Green Mountain cemetery on October 31, 2017, to observe if a top 5 frequency name collected in the cemetry dataset is also a top 5 frequency name in the government dataset. Gender specific histograms illustrating the frequency of the top 5 most popular newborn first names will provide a graphical representation of the results. \n",
    "\n",
    "The following two tables consist of data from the SSA to compare to the cemetery dataset:"
   ]
  },
  {
   "cell_type": "code",
   "execution_count": 61,
   "metadata": {
    "collapsed": true
   },
   "outputs": [],
   "source": [
    "ssa_male = pd.DataFrame({'Name': ['James','John','Robert','Michael','William'], \n",
    "'Number': [4815847,4636242,4600785,4307170,3689740]})\n",
    "\n",
    "ssa_female = pd.DataFrame({'Name': ['Mary','Patricia','Jennifer',\n",
    "'Elizabeth','Linda'], \n",
    "'Number': [3455228,1565291,1464890,1449478,1447946]})"
   ]
  },
  {
   "cell_type": "code",
   "execution_count": 50,
   "metadata": {},
   "outputs": [
    {
     "data": {
      "text/html": [
       "<div>\n",
       "<style>\n",
       "    .dataframe thead tr:only-child th {\n",
       "        text-align: right;\n",
       "    }\n",
       "\n",
       "    .dataframe thead th {\n",
       "        text-align: left;\n",
       "    }\n",
       "\n",
       "    .dataframe tbody tr th {\n",
       "        vertical-align: top;\n",
       "    }\n",
       "</style>\n",
       "<table border=\"1\" class=\"dataframe\">\n",
       "  <thead>\n",
       "    <tr style=\"text-align: right;\">\n",
       "      <th></th>\n",
       "      <th>Name</th>\n",
       "      <th>Number</th>\n",
       "    </tr>\n",
       "  </thead>\n",
       "  <tbody>\n",
       "    <tr>\n",
       "      <th>0</th>\n",
       "      <td>James</td>\n",
       "      <td>4815847</td>\n",
       "    </tr>\n",
       "    <tr>\n",
       "      <th>1</th>\n",
       "      <td>John</td>\n",
       "      <td>4636242</td>\n",
       "    </tr>\n",
       "    <tr>\n",
       "      <th>2</th>\n",
       "      <td>Robert</td>\n",
       "      <td>4600785</td>\n",
       "    </tr>\n",
       "    <tr>\n",
       "      <th>3</th>\n",
       "      <td>Michael</td>\n",
       "      <td>4307170</td>\n",
       "    </tr>\n",
       "    <tr>\n",
       "      <th>4</th>\n",
       "      <td>William</td>\n",
       "      <td>3689740</td>\n",
       "    </tr>\n",
       "  </tbody>\n",
       "</table>\n",
       "</div>"
      ],
      "text/plain": [
       "      Name   Number\n",
       "0    James  4815847\n",
       "1     John  4636242\n",
       "2   Robert  4600785\n",
       "3  Michael  4307170\n",
       "4  William  3689740"
      ]
     },
     "execution_count": 50,
     "metadata": {},
     "output_type": "execute_result"
    }
   ],
   "source": [
    "ssa_male  # Table 1: Top 5 total male newborn first names from 1917 to 2016 [1]"
   ]
  },
  {
   "cell_type": "code",
   "execution_count": 51,
   "metadata": {},
   "outputs": [
    {
     "data": {
      "text/html": [
       "<div>\n",
       "<style>\n",
       "    .dataframe thead tr:only-child th {\n",
       "        text-align: right;\n",
       "    }\n",
       "\n",
       "    .dataframe thead th {\n",
       "        text-align: left;\n",
       "    }\n",
       "\n",
       "    .dataframe tbody tr th {\n",
       "        vertical-align: top;\n",
       "    }\n",
       "</style>\n",
       "<table border=\"1\" class=\"dataframe\">\n",
       "  <thead>\n",
       "    <tr style=\"text-align: right;\">\n",
       "      <th></th>\n",
       "      <th>Name</th>\n",
       "      <th>Number</th>\n",
       "    </tr>\n",
       "  </thead>\n",
       "  <tbody>\n",
       "    <tr>\n",
       "      <th>0</th>\n",
       "      <td>Mary</td>\n",
       "      <td>3455228</td>\n",
       "    </tr>\n",
       "    <tr>\n",
       "      <th>1</th>\n",
       "      <td>Patricia</td>\n",
       "      <td>1565291</td>\n",
       "    </tr>\n",
       "    <tr>\n",
       "      <th>2</th>\n",
       "      <td>Jennifer</td>\n",
       "      <td>1464890</td>\n",
       "    </tr>\n",
       "    <tr>\n",
       "      <th>3</th>\n",
       "      <td>Elizabeth</td>\n",
       "      <td>1449478</td>\n",
       "    </tr>\n",
       "    <tr>\n",
       "      <th>4</th>\n",
       "      <td>Linda</td>\n",
       "      <td>1447946</td>\n",
       "    </tr>\n",
       "  </tbody>\n",
       "</table>\n",
       "</div>"
      ],
      "text/plain": [
       "        Name   Number\n",
       "0       Mary  3455228\n",
       "1   Patricia  1565291\n",
       "2   Jennifer  1464890\n",
       "3  Elizabeth  1449478\n",
       "4      Linda  1447946"
      ]
     },
     "execution_count": 51,
     "metadata": {},
     "output_type": "execute_result"
    }
   ],
   "source": [
    "ssa_female # Table 2: Top 5 total female newborn first names from 1917 to 2016 [1]"
   ]
  },
  {
   "cell_type": "markdown",
   "metadata": {},
   "source": [
    "These 10 names are the names to looking for once we have a valid dataset to analyze. Now that the top 5 names of the past 100 years have been established, it is timet to import and munge our collected Green Mountain Cemetery Data.\n",
    "\n",
    "## Importing Dataset and Data Analysis: "
   ]
  },
  {
   "cell_type": "code",
   "execution_count": 56,
   "metadata": {},
   "outputs": [
    {
     "data": {
      "text/html": [
       "<div>\n",
       "<style>\n",
       "    .dataframe thead tr:only-child th {\n",
       "        text-align: right;\n",
       "    }\n",
       "\n",
       "    .dataframe thead th {\n",
       "        text-align: left;\n",
       "    }\n",
       "\n",
       "    .dataframe tbody tr th {\n",
       "        vertical-align: top;\n",
       "    }\n",
       "</style>\n",
       "<table border=\"1\" class=\"dataframe\">\n",
       "  <thead>\n",
       "    <tr style=\"text-align: right;\">\n",
       "      <th></th>\n",
       "      <th>Observation</th>\n",
       "      <th>last_name</th>\n",
       "      <th>first_name</th>\n",
       "      <th>Gender</th>\n",
       "      <th>DOB</th>\n",
       "      <th>Date of Death</th>\n",
       "      <th>Age</th>\n",
       "    </tr>\n",
       "  </thead>\n",
       "  <tbody>\n",
       "    <tr>\n",
       "      <th>0</th>\n",
       "      <td>1</td>\n",
       "      <td>Perricone</td>\n",
       "      <td>Angelina</td>\n",
       "      <td>Female</td>\n",
       "      <td>1897</td>\n",
       "      <td>1977</td>\n",
       "      <td>80</td>\n",
       "    </tr>\n",
       "    <tr>\n",
       "      <th>1</th>\n",
       "      <td>2</td>\n",
       "      <td>Mills</td>\n",
       "      <td>Richard</td>\n",
       "      <td>Male</td>\n",
       "      <td>1927</td>\n",
       "      <td>1987</td>\n",
       "      <td>60</td>\n",
       "    </tr>\n",
       "    <tr>\n",
       "      <th>2</th>\n",
       "      <td>3</td>\n",
       "      <td>Perricone</td>\n",
       "      <td>Louis</td>\n",
       "      <td>Male</td>\n",
       "      <td>1895</td>\n",
       "      <td>1956</td>\n",
       "      <td>61</td>\n",
       "    </tr>\n",
       "    <tr>\n",
       "      <th>3</th>\n",
       "      <td>4</td>\n",
       "      <td>Benjamin</td>\n",
       "      <td>Alexander</td>\n",
       "      <td>Male</td>\n",
       "      <td>1916</td>\n",
       "      <td>2004</td>\n",
       "      <td>88</td>\n",
       "    </tr>\n",
       "    <tr>\n",
       "      <th>4</th>\n",
       "      <td>5</td>\n",
       "      <td>Smith</td>\n",
       "      <td>Edgar</td>\n",
       "      <td>Male</td>\n",
       "      <td>1921</td>\n",
       "      <td>2000</td>\n",
       "      <td>79</td>\n",
       "    </tr>\n",
       "  </tbody>\n",
       "</table>\n",
       "</div>"
      ],
      "text/plain": [
       "   Observation  last_name first_name  Gender   DOB  Date of Death  Age\n",
       "0            1  Perricone   Angelina  Female  1897           1977   80\n",
       "1            2      Mills    Richard    Male  1927           1987   60\n",
       "2            3  Perricone      Louis    Male  1895           1956   61\n",
       "3            4   Benjamin  Alexander    Male  1916           2004   88\n",
       "4            5      Smith      Edgar    Male  1921           2000   79"
      ]
     },
     "execution_count": 56,
     "metadata": {},
     "output_type": "execute_result"
    }
   ],
   "source": [
    "import pandas as pd\n",
    "master_cem = pd.read_csv('master_cem_data.csv',header = 3)\n",
    "master_cem_data = master_cem.rename(columns = {'First Name': 'first_name',\n",
    "'Date of Birth': 'DOB'})\n",
    "master_cem_data.head()"
   ]
  },
  {
   "cell_type": "markdown",
   "metadata": {},
   "source": [
    "Since the SSA dataset only provides data from 1917 - 2016, the people with a date of birth prior to 1917 can not be included in this study. "
   ]
  },
  {
   "cell_type": "code",
   "execution_count": 57,
   "metadata": {},
   "outputs": [
    {
     "data": {
      "text/html": [
       "<div>\n",
       "<style>\n",
       "    .dataframe thead tr:only-child th {\n",
       "        text-align: right;\n",
       "    }\n",
       "\n",
       "    .dataframe thead th {\n",
       "        text-align: left;\n",
       "    }\n",
       "\n",
       "    .dataframe tbody tr th {\n",
       "        vertical-align: top;\n",
       "    }\n",
       "</style>\n",
       "<table border=\"1\" class=\"dataframe\">\n",
       "  <thead>\n",
       "    <tr style=\"text-align: right;\">\n",
       "      <th></th>\n",
       "      <th>Observation</th>\n",
       "      <th>last_name</th>\n",
       "      <th>first_name</th>\n",
       "      <th>Gender</th>\n",
       "      <th>DOB</th>\n",
       "      <th>Date of Death</th>\n",
       "      <th>Age</th>\n",
       "    </tr>\n",
       "  </thead>\n",
       "  <tbody>\n",
       "    <tr>\n",
       "      <th>1</th>\n",
       "      <td>2</td>\n",
       "      <td>Mills</td>\n",
       "      <td>Richard</td>\n",
       "      <td>Male</td>\n",
       "      <td>1927</td>\n",
       "      <td>1987</td>\n",
       "      <td>60</td>\n",
       "    </tr>\n",
       "    <tr>\n",
       "      <th>4</th>\n",
       "      <td>5</td>\n",
       "      <td>Smith</td>\n",
       "      <td>Edgar</td>\n",
       "      <td>Male</td>\n",
       "      <td>1921</td>\n",
       "      <td>2000</td>\n",
       "      <td>79</td>\n",
       "    </tr>\n",
       "    <tr>\n",
       "      <th>5</th>\n",
       "      <td>6</td>\n",
       "      <td>Helen</td>\n",
       "      <td>Alexander</td>\n",
       "      <td>Male</td>\n",
       "      <td>1921</td>\n",
       "      <td>1985</td>\n",
       "      <td>64</td>\n",
       "    </tr>\n",
       "    <tr>\n",
       "      <th>6</th>\n",
       "      <td>7</td>\n",
       "      <td>Smith</td>\n",
       "      <td>Viria</td>\n",
       "      <td>Female</td>\n",
       "      <td>1930</td>\n",
       "      <td>2012</td>\n",
       "      <td>82</td>\n",
       "    </tr>\n",
       "    <tr>\n",
       "      <th>7</th>\n",
       "      <td>8</td>\n",
       "      <td>Torres</td>\n",
       "      <td>John A.</td>\n",
       "      <td>Male</td>\n",
       "      <td>1931</td>\n",
       "      <td>1986</td>\n",
       "      <td>55</td>\n",
       "    </tr>\n",
       "  </tbody>\n",
       "</table>\n",
       "</div>"
      ],
      "text/plain": [
       "   Observation last_name first_name  Gender   DOB  Date of Death  Age\n",
       "1            2     Mills    Richard    Male  1927           1987   60\n",
       "4            5     Smith      Edgar    Male  1921           2000   79\n",
       "5            6     Helen  Alexander    Male  1921           1985   64\n",
       "6            7     Smith      Viria  Female  1930           2012   82\n",
       "7            8    Torres    John A.    Male  1931           1986   55"
      ]
     },
     "execution_count": 57,
     "metadata": {},
     "output_type": "execute_result"
    }
   ],
   "source": [
    "master_cem_1917 = master_cem_data[master_cem_data.DOB >= 1917]\n",
    "master_cem_1917.head()"
   ]
  },
  {
   "cell_type": "markdown",
   "metadata": {},
   "source": [
    "Let us see how many observations, or how many people with a date of birth < 1917, were removed. "
   ]
  },
  {
   "cell_type": "code",
   "execution_count": 8,
   "metadata": {},
   "outputs": [
    {
     "data": {
      "text/plain": [
       "330"
      ]
     },
     "execution_count": 8,
     "metadata": {},
     "output_type": "execute_result"
    }
   ],
   "source": [
    "len(master_cem_data) # Dataset before < 1917 removal"
   ]
  },
  {
   "cell_type": "code",
   "execution_count": 40,
   "metadata": {},
   "outputs": [
    {
     "data": {
      "text/plain": [
       "107"
      ]
     },
     "execution_count": 40,
     "metadata": {},
     "output_type": "execute_result"
    }
   ],
   "source": [
    "len(master_cem_1917) # Dataset after < 1917 removal "
   ]
  },
  {
   "cell_type": "markdown",
   "metadata": {},
   "source": [
    "So 223 / 330, or approxiately 67.5% of the individuals recorded in the cemetery dataset were born before 1917. Although more data is preferable, 107 observations can be worked with."
   ]
  },
  {
   "cell_type": "markdown",
   "metadata": {},
   "source": [
    "Now lets observe the name frequency, male and female inclusive, to determine the top 5 most frequent names in our dataset per gender. "
   ]
  },
  {
   "cell_type": "code",
   "execution_count": 42,
   "metadata": {},
   "outputs": [
    {
     "data": {
      "text/plain": [
       "Joseph           5\n",
       "Robert           5\n",
       "John             4\n",
       "Helen            3\n",
       "Catherine        3\n",
       "Anthony          3\n",
       "Richard          3\n",
       "William          2\n",
       "Gladys           2\n",
       "Phillip          2\n",
       "James            2\n",
       "Josephine        2\n",
       "Gennaro          2\n",
       "Raymond          2\n",
       "Sarah            2\n",
       "Charles          2\n",
       "Robert c. JR.    1\n",
       "Alexander        1\n",
       "Harriett P       1\n",
       "Jeanie           1\n",
       "Name: first_name, dtype: int64"
      ]
     },
     "execution_count": 42,
     "metadata": {},
     "output_type": "execute_result"
    }
   ],
   "source": [
    "master_cem_1917.first_name.value_counts().head(20)"
   ]
  },
  {
   "cell_type": "markdown",
   "metadata": {},
   "source": [
    "From here, this data can be organized into two separate dictionaries with string and numerical keys to prepare for data visualization.\n",
    "\n",
    "## Data Visualization:"
   ]
  },
  {
   "cell_type": "code",
   "execution_count": 43,
   "metadata": {
    "collapsed": true
   },
   "outputs": [],
   "source": [
    "import numpy as np\n",
    "import matplotlib.pyplot as plt\n",
    "\n",
    "top_males = {'Robert': 5,'Joseph': 5, 'John': 4,'Anthony': 3,'Richard': 3}\n",
    "top_females = {'Catherine': 3,'Helen': 3,'Gladys': 2,'Josephine': 2,'Sarah': 2}\n",
    "\n",
    "top_males_index = {1: 5, 2: 5, 3: 4, 4: 3, 5: 3}\n",
    "top_females_index = {1: 3, 2: 3, 3: 2, 4: 2, 5: 2}"
   ]
  },
  {
   "cell_type": "code",
   "execution_count": 44,
   "metadata": {},
   "outputs": [
    {
     "data": {
      "image/png": "[encoded data removed]",
      "text/plain": [
       "<matplotlib.figure.Figure at 0x11472f278>"
      ]
     },
     "metadata": {},
     "output_type": "display_data"
    }
   ],
   "source": [
    "plt.bar(list(top_males_index.keys()),list(top_males_index.values()),\n",
    "color = ['#A2CD5A','#CDC8B1','#A2CD5A','#CDC8B1','#CDC8B1'], \n",
    "tick_label = (top_males.keys()))\n",
    "plt.title(\"Figure 1: Highest Frequency Male Names\")\n",
    "plt.ylabel('Frequency')\n",
    "plt.xlabel('Names')\n",
    "plt.show()"
   ]
  },
  {
   "cell_type": "markdown",
   "metadata": {},
   "source": [
    "According to master_cem_1917 cross referenced with Table 1 (ssa_male), the only names to appear in the top 5 of both the Green Mountain and SSA dataset is 'Robert' and 'John'. With a dataset length of 107, the percentage of the dataset that have these two names is the following: 4.6% for 'Robert; and 3.7% for 'John'. "
   ]
  },
  {
   "cell_type": "code",
   "execution_count": 45,
   "metadata": {},
   "outputs": [
    {
     "data": {
      "image/png": "[encoded data removed]",
      "text/plain": [
       "<matplotlib.figure.Figure at 0x1147eca20>"
      ]
     },
     "metadata": {},
     "output_type": "display_data"
    }
   ],
   "source": [
    "plt.bar(list(top_females_index.keys()),list(top_females_index.values()),\n",
    "color = '#CDC8B1', tick_label = (top_females.keys()))\n",
    "plt.title(\"Figure 2: Highest Frequency Female Names\")\n",
    "plt.ylabel('Frequency')\n",
    "plt.xlabel('Names')\n",
    "plt.show()"
   ]
  },
  {
   "cell_type": "markdown",
   "metadata": {},
   "source": [
    "Using the same comparison method as the male data visualization, the top 5 female names of the Green Mountain dataset was compared to Table 2 (ssa_female). None of the top female names in the Green Mountain dataset were mentioned in the top 5 of the SSA dataset.  \n",
    "\n",
    "It seems odd that the most frequent overall female name of the past century, 'Mary' did not make an appearance at all in the top 5 of the Green Mountain dataset. To investigate, the frequency of Mary for the entire dataset, including people born before 1917, is counted and juxtaposed with the frequency of 'Mary' for the years 1917 - present day: "
   ]
  },
  {
   "cell_type": "code",
   "execution_count": 32,
   "metadata": {},
   "outputs": [
    {
     "name": "stdout",
     "output_type": "stream",
     "text": [
      "7\n"
     ]
    }
   ],
   "source": [
    "mary_count = 0\n",
    "for i in master_cem_data['first_name']:\n",
    "    if i == 'Mary':\n",
    "        mary_count = mary_count + 1\n",
    "print(mary_count) # frequency of 'Mary' from the entire dataset"
   ]
  },
  {
   "cell_type": "code",
   "execution_count": 47,
   "metadata": {},
   "outputs": [
    {
     "name": "stdout",
     "output_type": "stream",
     "text": [
      "0\n"
     ]
    }
   ],
   "source": [
    "mary_count_1917 = 0\n",
    "for j in master_cem_1917['first_name']:\n",
    "    if j == 'Mary':\n",
    "        mary_count_1917 = mary_count_1917 + 1\n",
    "print(mary_count_1917) # frequency of 'Mary' 1917 - present day"
   ]
  },
  {
   "cell_type": "markdown",
   "metadata": {},
   "source": [
    "To put these values into context, the frequency observations for all of the names in the entire Green Mountain dataset should be observed: "
   ]
  },
  {
   "cell_type": "code",
   "execution_count": 48,
   "metadata": {},
   "outputs": [
    {
     "data": {
      "text/plain": [
       "John         13\n",
       "Joseph       11\n",
       "William       8\n",
       "Anthony       7\n",
       "Charles       7\n",
       "Robert        7\n",
       "Mary          7\n",
       "Catherine     6\n",
       "Anna          5\n",
       "Frank         5\n",
       "Richard       5\n",
       "Josephine     5\n",
       "Rose          5\n",
       "Sarah         5\n",
       "James         4\n",
       "Name: first_name, dtype: int64"
      ]
     },
     "execution_count": 48,
     "metadata": {},
     "output_type": "execute_result"
    }
   ],
   "source": [
    "master_cem_data.first_name.value_counts().head(15)"
   ]
  },
  {
   "cell_type": "markdown",
   "metadata": {},
   "source": [
    "The name 'Mary' is one of the most frequent names in the entire Green Moutain dataset, yet none of the name observations are from 1917 - present day. So all 7 'Mary' names are from people born before 1917. This seeems contradictory to the data provided by the SSA, with 'Mary' being the top overall female name of the past century. "
   ]
  },
  {
   "cell_type": "markdown",
   "metadata": {},
   "source": [
    "## Conclusion: \n",
    "This brief analysis of a small sample of deceased inidivuals from the Green Mountain Cemetery in Hammonton, New Jersey, allows insight into the name frequency of the people of this quaint South Jersey town. After data visualization of the top 5 most frequent names (male and female) compared to the top 5 overall most frequent names of the past century (male and female, 1917 - 2016) the data indicates the following. For males, only the names 'Robert' and 'John' from the Green Mountain sample agree with Table 1. For females, no names agree with Table 2, which is particularly  noteworthy for the name 'Mary'. As a result, the name 'Mary' was further investigated; although 'Mary' was one of the most frequent names of the entire Green Mountain dataset inclusive of people born before 1917, 'Mary' did not appear once in the dataset for people only born after 1917. This finding seems to contradict the data from Table 2. However, for future study, a larger sample size should be take to obtain more accurate data. Specifically, a statistical analysis to determine the minimum sample size for a certain confidence level can be computed for further investigation. "
   ]
  },
  {
   "cell_type": "markdown",
   "metadata": {},
   "source": [
    "## References: \n",
    "[1]. Social Security. (n.d.). Retrieved November 29, 2017, from https://www.ssa.gov/oact/babynames/decades/century.html"
   ]
  },
  {
   "cell_type": "code",
   "execution_count": null,
   "metadata": {
    "collapsed": true
   },
   "outputs": [],
   "source": []
  }
 ],
 "metadata": {
  "kernelspec": {
   "display_name": "Python 3",
   "language": "python",
   "name": "python3"
  },
  "language_info": {
   "codemirror_mode": {
    "name": "ipython",
    "version": 3
   },
   "file_extension": ".py",
   "mimetype": "text/x-python",
   "name": "python",
   "nbconvert_exporter": "python",
   "pygments_lexer": "ipython3",
   "version": "3.6.3"
  }
 },
 "nbformat": 4,
 "nbformat_minor": 2
}
